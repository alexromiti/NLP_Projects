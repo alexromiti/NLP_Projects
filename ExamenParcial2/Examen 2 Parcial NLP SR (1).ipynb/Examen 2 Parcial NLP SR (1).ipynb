{
 "cells": [
  {
   "cell_type": "markdown",
   "metadata": {},
   "source": [
    "# Bienvenidos al segundo examen parcial!\n",
    "\n",
    "En este examen, pondran a prueba los conocimientos adquiridos durante la segunda mitad del curso. Recuerden que el examen pueden entregarlo desde que reciben este archivo, hasta las 11:59 de la noche del dia Sabado 28 de Octubre del Anio en curso. Por favor, tengan esto en mente, no puedo aceptar entregas extemporaneas :(\n",
    "\n",
    "## Lo que deben hacer\n",
    "\n",
    "El dataset que utilizaran contiene extractos de poemas/historias creadas por 3 reconocidos autores\n",
    "- Mary Shelley: Autora de \"Frankenstein\"\n",
    "- Edgar Allan Poe: Autor de Poemas como \"El Cuervo\"\n",
    "- HP Lovecraft: Autor de libros como \"El Necronomicon\"\n",
    "\n",
    "A continuacion, se muestran los puntos que han de desarrollar para su examen:\n",
    "\n",
    "1. Crear grafico de barras con el numero de muestras para cada autor\n",
    "2. Poner un comentario sobre el balance/desbalance de los datos. Existe alguna categoria sobre/sub representada? Como podria afectar esto al entrenamiento? (Profundizar en su respuesta)\n",
    "3. Crear graficos de barras para cada autor. Los graficos de barras deberan mostrar unigramas, bigramas, trigramas y n-gramas=4 (tetragramas?)\n",
    "4. Crear nubes de palabras para cada autor. Al igual que los graficos de barras, deberan mostrar unigramas, bigramas, trigramas y n-gramas=4 (tetragramas?)\n",
    "5. En una celda nueva, aplicar mascaras a las nubes de palabras generadas. Las mascaras que se sugieren son:\n",
    "    * Para Lovecraft: https://w7.pngwing.com/pngs/484/937/png-transparent-cthulhu-symbol-cthulhu-miscellaneous-photography-fictional-character.png\n",
    "    * Para Shelley: https://i.pinimg.com/1200x/47/b5/0e/47b50e83011c4e8c945706519a2b7a0f.jpg\n",
    "    * Para Poe: https://w7.pngwing.com/pngs/457/808/png-transparent-common-raven-raven-black-crow-graphic-fauna-bird-new-caledonian-crow.png\n",
    "    * *Nota. En caso de presentar dificultades con las imagenes sugeridas, pueden buscar otras imagenes\n",
    "6. Con base en la informacion mostrada por las nubes de palabras y graficos de barras, agregar un comentario explicando las posibles hipotesis generadas (Existe algun tema/palabra recurrente para algun autor en particular, parecieran todos hablar de lo mismo? Y otras observaciones de valor que puedan realizar. Recuerden profundizar en su respuesta)\n",
    "7. Utilizando TSNE, crear un agrupamiento en 2D para observar las relaciones semanticas de los textos analizados (Pueden utilizar word2vec o GloVe para vectorizar)\n",
    "8. Con base en la visualziacion generada, poner un comentario con las observaciones que puedan destacar (hay agrupamientos evidentes? Clusteres de algun tema en especifico? Recuerden profundizar en su respuesta)\n",
    "9. Deberan entrenar dos arquitecturas de red neuronal diferente para clasificacion. Una sera FNN y otra sera CNN, son libres de elegir el numero de capas y el numero de neuronas por capa. Solo recuerden las implicaciones que mover estos parametros tiene.\n",
    "10. Con base en los modelos obtenidos, poner un comentario mencionando cual de los dos es mejor (Tomar en cuenta metricas de clasificacion ,asi como tiempos de entrenamiento. Recuerden profundizar en su respuesta)\n",
    "11. Una vez elegido el mejor modelo, deberan clasificar los siguientes textos. Se indica ademas el autor al cual dicho extracto pertenece:\n",
    "    * Edgar Allan Poe: \"Back into the chamber turning, all my soul within me burning,\n",
    "                        Soon again I heard a tapping somewhat louder than before.\n",
    "                        “Surely,” said I, “surely that is something at my window lattice,\n",
    "                        Let me see, then, what thereat is, and this mystery explore—\n",
    "                        Let my heart be still a moment and this mystery explore;—\n",
    "                        'Tis the wind and nothing more.”\n",
    "    * Edgar Allan Poe: \"I soon noticed a special reasoning power he had, an unusual\n",
    "                        reasoning power. Using it gave him great pleasure. He told me once,\n",
    "                        with a soft and quiet laugh, that most men have windows over their\n",
    "                        hearts; through these he could see into their souls. Then, he surprised\n",
    "                        me by telling what he knew about my own soul; and I found that he\n",
    "                        knew things about me that I had thought only I could possibly know.\n",
    "                        His manner at these moments was cold and distant. ”\n",
    "    * HP Lovecraft: \"I have traveled beneath the Seas, in search of the Palace of Our Master, and found the stone \n",
    "                    monuments of vanquished civilizations, and deciphered the writings of some of these; while still others \n",
    "                    remain mysteries to any man who lives. And these civilizations were destroyed because of the \n",
    "                    knoeledge contained in this book. \"\n",
    "    * HP Lovecraft: \"ALL IS SILENCE AS SPACE IS TORN BY THE RING OF THE BELL \n",
    "                    MY BROTHERS AWAIT ON THE OTHER SIDE \n",
    "                    HAR THAR! IAH! OUR NUMBERS ARE STRONG \n",
    "                    WITHIN A TIME THAT IS NO TIME, \n",
    "                    A SPACE THAT IS NO SPACE! \n",
    "                    LA! IA! IA! KUTHLU\"\n",
    "    * Mary Shelley: \"As I applied so closely, it may be easily conceived that my progress was rapid. My ardour was indeed the astonishment of the students, and my proficiency that of the masters. Professor Krempe often asked me, with a sly smile, how Cornelius Agrippa went on? whilst M. Waldman expressed the most heartfelt exultation in my progress. Two years passed in this manner, during which I paid no visit to Geneva, but was engaged, heart and soul, in the pursuit of some discoveries, which I hoped to make.\"\n",
    "    * Mary Shelley: \"The summer months passed while I was thus engaged, heart and soul, in one pursuit. It was a most beautiful season; never did the fields bestow a more plentiful harvest, or the vines yield a more luxuriant vintage: but my eyes were insensible to the charms of nature. And the same feelings which made me neglect the scenes around me caused me also to forget those friends who were so many miles absent, and whom I had not seen for so long a time. I knew my silence disquieted them; and I well remembered the words of my father: \"I know that while you are pleased with yourself, you will think of us with affection, and we shall hear regularly from you. You must pardon me if I regard any interruption in your correspondence as a proof that your other duties are equally neglected.\"\n",
    "12. Agregar un comentario reflexionando sobre los resultados obtenidos. Tu modelo clasifico todos los textos correctamente? Si no lo hizo, a que crees que se pueda deber? (Profundizar en respuesta)\n",
    "13. EXTRA!!!: Seleccionar a un autor de los 3, crear una red neuronal recurrente que pueda generar un poema/cuento nuevo a partir de los extractos previos de dicho autor\n",
    "\n",
    "\n",
    "\n"
   ]
  },
  {
   "cell_type": "markdown",
   "metadata": {},
   "source": []
  },
  {
   "cell_type": "markdown",
   "metadata": {},
   "source": []
  },
  {
   "cell_type": "markdown",
   "metadata": {},
   "source": []
  }
 ],
 "metadata": {
  "language_info": {
   "name": "python"
  }
 },
 "nbformat": 4,
 "nbformat_minor": 2
}
